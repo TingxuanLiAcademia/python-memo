{
 "cells": [
  {
   "cell_type": "markdown",
   "id": "cbf73acc",
   "metadata": {},
   "source": [
    "## Created based on [*args and **kwargs in Python](https://www.geeksforgeeks.org/args-kwargs-python/)"
   ]
  },
  {
   "cell_type": "markdown",
   "id": "fc6cb0db",
   "metadata": {},
   "source": [
    "### What is Python *args"
   ]
  },
  {
   "cell_type": "code",
   "execution_count": 1,
   "id": "7d0443b4",
   "metadata": {},
   "outputs": [
    {
     "name": "stdout",
     "output_type": "stream",
     "text": [
      "Hello\n",
      "Welcome\n",
      "to\n",
      "GeeksforGeeks\n"
     ]
    }
   ],
   "source": [
    "#Example 1\n",
    "\n",
    "def myFun(*argv):\n",
    "    for arg in argv:\n",
    "        print(arg)\n",
    "        \n",
    "myFun('Hello', 'Welcome', 'to', 'GeeksforGeeks')"
   ]
  },
  {
   "cell_type": "code",
   "execution_count": 2,
   "id": "fa69d67d",
   "metadata": {},
   "outputs": [
    {
     "name": "stdout",
     "output_type": "stream",
     "text": [
      "First argument : Hello\n",
      "Next argument through *argv : Welcome\n",
      "Next argument through *argv : to\n",
      "Next argument through *argv : GeeksforGeeks\n"
     ]
    }
   ],
   "source": [
    "#Example 2\n",
    "\n",
    "def myFun(arg1, *argv):\n",
    "    print(f'First argument : {arg1}')\n",
    "    for arg in argv:\n",
    "        print(f'Next argument through *argv : {arg}')\n",
    "        \n",
    "myFun('Hello', 'Welcome', 'to', 'GeeksforGeeks')"
   ]
  },
  {
   "cell_type": "markdown",
   "id": "e14b06ad",
   "metadata": {},
   "source": [
    "### What is Python **kwargs"
   ]
  },
  {
   "cell_type": "code",
   "execution_count": 5,
   "id": "43865a25",
   "metadata": {},
   "outputs": [
    {
     "name": "stdout",
     "output_type": "stream",
     "text": [
      "first == Geeks\n",
      "mid == for\n",
      "last == Geeks\n"
     ]
    }
   ],
   "source": [
    "#Example 3\n",
    "\n",
    "def myFun(**kwargs):\n",
    "    for key, value in kwargs.items():\n",
    "        print(f'{key} == {value}')\n",
    "        \n",
    "# Driver code\n",
    "myFun(first='Geeks', mid='for', last='Geeks')\n",
    "\n",
    "# myFun({'first':'Geeks', 'mid':'for', 'last':'Geeks'}) 本当の辞書はダメみたい"
   ]
  },
  {
   "cell_type": "code",
   "execution_count": 6,
   "id": "a8226c31",
   "metadata": {},
   "outputs": [
    {
     "name": "stdout",
     "output_type": "stream",
     "text": [
      "first == Geeks\n",
      "mid == for\n",
      "last == Geeks\n"
     ]
    }
   ],
   "source": [
    "#Example 4\n",
    "\n",
    "def myFun(args1, **kwargs):\n",
    "    for key, value in kwargs.items():\n",
    "        print(f'{key} == {value}')\n",
    "        \n",
    "# Driver code\n",
    "myFun(\"Hi\", first='Geeks', mid='for', last='Geeks')"
   ]
  },
  {
   "cell_type": "markdown",
   "id": "b415047e",
   "metadata": {},
   "source": [
    "### Using both *args and **kwargs to call a function"
   ]
  },
  {
   "cell_type": "markdown",
   "id": "d60ca22a",
   "metadata": {},
   "source": [
    "- Here, we are passing args and kwargs as an argument in the myFun function. By passing args to myFun simply means that we **passing the positional and varibale length arguments which is contained by args**. so, “geeks” pass to the arge1 , “for” pass to the arg2 and “geeks” pass to the arg3. when we passing kwargs as an argument to the myFun it’s mean that **it accepts key-word arguments**. Here, **“arg1 is key and value is “Geeks” which is pass to arge1**, and just like that “for” and “Geeks” pass to arg2 and arg3 respectively .After passing all the data we are printing all the data in lines. "
   ]
  },
  {
   "cell_type": "code",
   "execution_count": 7,
   "id": "9d39d4d8",
   "metadata": {},
   "outputs": [
    {
     "name": "stdout",
     "output_type": "stream",
     "text": [
      "arg1: Geeks\n",
      "arg2: for\n",
      "arg3: Geeks\n",
      "arg1: Geeks\n",
      "arg2: for\n",
      "arg3: Geeks\n"
     ]
    }
   ],
   "source": [
    "#Example 5\n",
    "\n",
    "def myFun(arg1, arg2, arg3):\n",
    "    print(f'arg1: {arg1}')\n",
    "    print(f'arg2: {arg2}')\n",
    "    print(f'arg3: {arg3}')\n",
    "    \n",
    "args = (\"Geeks\", \"for\", \"Geeks\")\n",
    "myFun(*args)\n",
    " \n",
    "kwargs = {\"arg1\": \"Geeks\", \"arg2\": \"for\", \"arg3\": \"Geeks\"}\n",
    "myFun(**kwargs)"
   ]
  },
  {
   "cell_type": "markdown",
   "id": "104becb4",
   "metadata": {},
   "source": [
    "- 根据例3和例5，似乎在函数的argument处，根据输入的形参的格式\n",
    "    - (arg1, arg2, arg3)\n",
    "    - (**kwargs)\n",
    "- 的不同，实参可以使用的格式也有所不同"
   ]
  },
  {
   "cell_type": "code",
   "execution_count": 8,
   "id": "c1c7cd57",
   "metadata": {},
   "outputs": [
    {
     "name": "stdout",
     "output_type": "stream",
     "text": [
      "args: ('geeks', 'for', 'geeks')\n",
      "kwargs: {'first': 'Geeks', 'mid': 'for', 'last': 'Geeks'}\n"
     ]
    }
   ],
   "source": [
    "#Example 6\n",
    "\n",
    "def myFun(*args, **kwargs):\n",
    "    print(f'args: {args}')\n",
    "    print(f'kwargs: {kwargs}')\n",
    "    \n",
    "myFun('geeks', 'for', 'geeks', first=\"Geeks\", mid=\"for\", last=\"Geeks\")"
   ]
  },
  {
   "cell_type": "code",
   "execution_count": null,
   "id": "65ea77cd",
   "metadata": {},
   "outputs": [],
   "source": []
  }
 ],
 "metadata": {
  "kernelspec": {
   "display_name": "Python 3 (ipykernel)",
   "language": "python",
   "name": "python3"
  },
  "language_info": {
   "codemirror_mode": {
    "name": "ipython",
    "version": 3
   },
   "file_extension": ".py",
   "mimetype": "text/x-python",
   "name": "python",
   "nbconvert_exporter": "python",
   "pygments_lexer": "ipython3",
   "version": "3.7.8"
  }
 },
 "nbformat": 4,
 "nbformat_minor": 5
}
